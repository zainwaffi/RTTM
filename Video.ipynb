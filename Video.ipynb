{
 "cells": [
  {
   "cell_type": "code",
   "execution_count": 1,
   "id": "d505de9d",
   "metadata": {},
   "outputs": [],
   "source": [
    "from manim import *\n",
    "config.media_width = \"100%\"\n"
   ]
  },
  {
   "cell_type": "markdown",
   "id": "44904f54",
   "metadata": {},
   "source": [
    "# Introduction\n",
    "* Imagine you can get $1,000,000 only by solving familiar yet not simple equations\n",
    "\n",
    "> write the equation on the chalkboard in university.\n",
    "\n",
    "* For example, if I told you to predict for me what trajectory the ball will take, I would give you $10  \n",
    "given the initial conditions \n",
    "\n",
    "> film a scene where you shoot a ball in a field, a snapshot of the ball before hitting it.\n",
    "\n",
    "* That should be simple enough. Newton's second law! "
   ]
  },
  {
   "cell_type": "markdown",
   "id": "4d619609",
   "metadata": {},
   "source": [
    "## Trajectory Path"
   ]
  },
  {
   "cell_type": "code",
   "execution_count": 3,
   "id": "2b49743f",
   "metadata": {},
   "outputs": [
    {
     "data": {
      "text/html": [
       "<pre style=\"white-space:pre;overflow-x:auto;line-height:normal;font-family:Menlo,'DejaVu Sans Mono',consolas,'Courier New',monospace\">Manim Community <span style=\"color: #008000; text-decoration-color: #008000\">v0.19.0</span>\n",
       "\n",
       "</pre>\n"
      ],
      "text/plain": [
       "Manim Community \u001b[32mv0.\u001b[0m\u001b[32m19.0\u001b[0m\n",
       "\n"
      ]
     },
     "metadata": {},
     "output_type": "display_data"
    },
    {
     "name": "stderr",
     "output_type": "stream",
     "text": [
      "                                                                                                \r"
     ]
    },
    {
     "data": {
      "text/html": [
       "<video src=\"media\\jupyter\\Newton@2025-04-27@00-06-20.mp4\" controls autoplay loop style=\"max-width: 100%;\"  >\n",
       "      Your browser does not support the <code>video</code> element.\n",
       "    </video>"
      ],
      "text/plain": [
       "<IPython.core.display.Video object>"
      ]
     },
     "metadata": {},
     "output_type": "display_data"
    }
   ],
   "source": [
    "%%manim --disable_caching -v WARNING -qh Newton\n",
    "\n",
    "#acceleration to vector field\n",
    "class Newton(MovingCameraScene):\n",
    "    def construct(self):\n",
    "\n",
    "        # set up axes and graph\n",
    "        axes = Axes(\n",
    "            x_range=[0, 4],\n",
    "            y_range=[-1, 3],\n",
    "            axis_config={\"color\": WHITE}, \n",
    "        )\n",
    "\n",
    "        t_label = MathTex(\"t\").next_to(axes.x_axis, RIGHT)\n",
    "        s_label = MathTex(\"s(t)\").next_to(axes.y_axis, UP)\n",
    "        labels= VGroup(t_label, s_label)\n",
    "        \n",
    "        f= lambda x: -3/4 *(x-2)**2 +3\n",
    "        graph = axes.plot(f, color=RED)\n",
    "        plane=VGroup(axes,graph)\n",
    "\n",
    "        \n",
    "        \n",
    "\n",
    "        # set up point and vector\n",
    "\n",
    "        def get_tangent_vector(proportion, curve, scale=1):\n",
    "            coord_i = curve.point_from_proportion(proportion if proportion <0.999 else proportion - 0.001)\n",
    "            coord_f = curve.point_from_proportion(proportion + 0.001 if proportion <0.999 else proportion ) \n",
    "            reference_line = Line(coord_i,coord_f)\n",
    "            unit_vector = reference_line.get_unit_vector() * scale\n",
    "            vector = Arrow(coord_i, coord_i + unit_vector,color= YELLOW, buff=0)\n",
    "            return vector\n",
    "\n",
    "        vector = get_tangent_vector(0, graph, scale=1.5)\n",
    "\n",
    "        dot = Dot(graph.point_from_proportion(0), color=YELLOW).scale(3)\n",
    "        dot.add_updater(lambda d: d.move_to(vector.get_start()))\n",
    "\n",
    "        def tan(mob, alpha):\n",
    "            mob.become(\n",
    "                    get_tangent_vector(alpha,graph,scale=1.5))\n",
    "\n",
    "        def udp(mob):\n",
    "            mob.next_to(dot.get_center(),DOWN,buff=0.25)\n",
    "\n",
    "        gravity=Arrow(dot.get_center(),dot.get_center()+1.5*DOWN,color=GREEN)\n",
    "        gravity.add_updater(udp)\n",
    "        \n",
    "\n",
    "       \n",
    "        u= MathTex(r'u(t)', color=YELLOW).next_to(dot.get_center(), UP)\n",
    "        g= MathTex(r'g', color=GREEN).next_to(gravity.get_center(), RIGHT)\n",
    "\n",
    "        u.add_updater(lambda l: l.next_to(dot.get_center(), UP,buff=0.9))\n",
    "        g.add_updater(lambda l: l.next_to(gravity.get_center(), RIGHT,buff=0.5))\n",
    "        self.camera.frame.save_state()\n",
    "    \n",
    "\n",
    "\n",
    "        self.camera.frame.move_to(dot.get_center())\n",
    "        self.camera.frame.scale(0.5)\n",
    "\n",
    "        self.play(Create(dot))\n",
    "        self.play(LaggedStartMap(Create,VGroup(vector,gravity),lag_ratio=1),rate_func=smooth)\n",
    "        self.play(LaggedStartMap(Write,VGroup(u,g),lag_ratio=0.5))\n",
    "        self.play(Restore(self.camera.frame))\n",
    "        self.bring_to_back(plane)\n",
    "\n",
    "        self.play(Create(plane),run_time=2,rate_func=linear)\n",
    "        self.play(Write(labels))\n",
    "        \n",
    "\n",
    "        \n",
    "        \n",
    "\n",
    "\n",
    "\n",
    "        self.play(UpdateFromAlphaFunc(vector, tan), run_time=8, rate_func=linear)\n"
   ]
  },
  {
   "cell_type": "markdown",
   "id": "f049323c",
   "metadata": {},
   "source": [
    "Now, same question, but imagine I give you a snapshot of a flow of a river (Seaton Park walking during the day). How would you do it?\n",
    "\n",
    "![river](river.jpg)\n",
    "\n",
    "That was the one million prize problem that puzzled mathematicians and physicists\n",
    "Which is the navier-stokes equations\n",
    "> back to the chalkboard with equation focus"
   ]
  },
  {
   "cell_type": "markdown",
   "id": "ab530f53",
   "metadata": {},
   "source": [
    "# Scene 2\n",
    "As complicated as it seems, it is all about fundamental laws of physics that we know.\n",
    "> Explain Navier-Stokes through animations in Manim.\n"
   ]
  },
  {
   "cell_type": "code",
   "execution_count": 4,
   "id": "997c0754",
   "metadata": {},
   "outputs": [
    {
     "data": {
      "text/html": [
       "<pre style=\"white-space:pre;overflow-x:auto;line-height:normal;font-family:Menlo,'DejaVu Sans Mono',consolas,'Courier New',monospace\">Manim Community <span style=\"color: #008000; text-decoration-color: #008000\">v0.19.0</span>\n",
       "\n",
       "</pre>\n"
      ],
      "text/plain": [
       "Manim Community \u001b[32mv0.\u001b[0m\u001b[32m19.0\u001b[0m\n",
       "\n"
      ]
     },
     "metadata": {},
     "output_type": "display_data"
    },
    {
     "name": "stderr",
     "output_type": "stream",
     "text": [
      "                                                                                                               \r"
     ]
    },
    {
     "data": {
      "text/html": [
       "<video src=\"media\\jupyter\\Navier@2025-04-27@00-07-02.mp4\" controls autoplay loop style=\"max-width: 100%;\"  >\n",
       "      Your browser does not support the <code>video</code> element.\n",
       "    </video>"
      ],
      "text/plain": [
       "<IPython.core.display.Video object>"
      ]
     },
     "metadata": {},
     "output_type": "display_data"
    }
   ],
   "source": [
    "%%manim --disable_caching -v WARNING -qh Navier\n",
    "class Navier(Scene):\n",
    "    def construct(self):\n",
    "        navier_stokes= Text('Naiver-stokes Equations').scale(1.5).shift(ORIGIN)\n",
    "        T1= Text('Continunity equation')\n",
    "        T2= Text('Momentum equation')\n",
    "        self.play(Write(navier_stokes,run_time=4, rate_func=smooth))\n",
    "        self.play(navier_stokes.animate.to_edge(UP))\n",
    "        self.wait()\n",
    "\n",
    "        \n",
    "        ns=MathTex(r'\\rho',r'( \\frac{\\partial u}{ \\partial t} + u \\cdot \\nabla u)', r'=', r'-\\nabla P', r'+ \\mu \\nabla^2\\textbf{u}', r'+ \\textbf{f}', color=WHITE).scale(1.5)\n",
    "      \n",
    "        ce_ns= MathTex(r' \\nabla \\cdot \\textbf{u} =0',color=WHITE).scale(2)\n",
    "        \n",
    "\n",
    "        vg=VGroup(T1,ce_ns,T2,ns)\n",
    "        vg.arrange(DOWN).to_edge(DOWN,buff=1)\n",
    "        vg[:2].shift(0.5*UP)\n",
    "        vg[2:].shift(0.3*DOWN)\n",
    "        self.play(LaggedStartMap(Write,vg,run_time=4,lag_ratio=0.3))\n",
    "        \n",
    "        self.wait(3)\n",
    "        self.play(LaggedStartMap(FadeOut,self.mobjects))\n"
   ]
  },
  {
   "cell_type": "markdown",
   "id": "61b4beae",
   "metadata": {},
   "source": [
    "But we have to state these are the simplified version under the assumptions;\n",
    "\n",
    " * incompressible\n",
    "\n",
    " * Newtonian \n",
    "\n",
    " * isothermal."
   ]
  },
  {
   "cell_type": "code",
   "execution_count": 5,
   "id": "56c2888d",
   "metadata": {},
   "outputs": [],
   "source": [
    "def div_field(p):\n",
    "    epsilon=1\n",
    "    x , y , z =  p\n",
    "    # Source-like terms\n",
    "    fx1 = (x - 2) / ((x - 2)**2 + (y - 2)**2 + epsilon)\n",
    "    fy1 = (y - 2) / ((x - 2)**2 + (y - 2)**2 + epsilon)\n",
    "\n",
    "    fx2 = (x + 2) / ((x + 2)**2 + (y + 2)**2 + epsilon)\n",
    "    fy2 = (y + 2) / ((x + 2)**2 + (y + 2)**2 + epsilon)\n",
    "\n",
    "    # Sink-like terms\n",
    "    fx3 = (x - 2) / ((x - 2)**2 + (y + 2)**2 + epsilon)\n",
    "    fy3 = (y + 2) / ((x - 2)**2 + (y + 2)**2 + epsilon)\n",
    "\n",
    "    fx4 = (x + 2) / ((x + 2)**2 + (y - 2)**2 + epsilon)\n",
    "    fy4 = (y - 2) / ((x + 2)**2 + (y - 2)**2 + epsilon)\n",
    "\n",
    "    # Net vector\n",
    "    fx = fx1 + fx2 - fx3 - fx4\n",
    "    fy = fy1 + fy2 - fy3 - fy4\n",
    "\n",
    "    return np.array([fx, fy,0])"
   ]
  },
  {
   "cell_type": "code",
   "execution_count": 6,
   "id": "e436958e",
   "metadata": {},
   "outputs": [],
   "source": [
    "def pointers(p, n=5, radius=0.5,sign=1):\n",
    "    terminal_point = p\n",
    "    vectors=VGroup()\n",
    "    for i in range(n):\n",
    "            angle = 2 * PI * i / n\n",
    "            origin = terminal_point + radius * np.array([np.cos(angle), np.sin(angle), 0])\n",
    "            new_terminal = terminal_point + 1.2*np.array([np.cos(angle), np.sin(angle), 0])\n",
    "            vector = Arrow(start=origin, end=new_terminal , buff=0, color=BLUE)\n",
    "            if sign == 1:\n",
    "                vector.rotate(PI)\n",
    "            vectors.add(vector)\n",
    "    return vectors\n"
   ]
  },
  {
   "cell_type": "code",
   "execution_count": 15,
   "id": "5f2ea6fb",
   "metadata": {},
   "outputs": [],
   "source": [
    "def stokes_flow(v,R=0.7,U=2):\n",
    "    \n",
    "    x,y , z = v\n",
    "    \"\"\"\n",
    "    Creeping flow (Re << 1) around a cylinder of radius R\n",
    "    in 2D at uniform flow speed U.\n",
    "    \"\"\"\n",
    "    r = np.sqrt(x**2 + y**2)\n",
    "    theta = np.arctan2(y, x)\n",
    "    \n",
    "    if r < R:\n",
    "        return np.array([0.0, 0.0,0.0])  # inside the cylinder, no flow\n",
    "\n",
    "    # Radial and angular velocity components (u_r, u_theta)\n",
    "    ur = U * (1 - (R**2 / r**2)) * np.cos(theta)\n",
    "    ut = -U * (1 + (R**2 / r**2)) * np.sin(theta)\n",
    "\n",
    "    # Convert to Cartesian\n",
    "    u = ur * np.cos(theta) - ut * np.sin(theta)\n",
    "    v = ur * np.sin(theta) + ut * np.cos(theta)\n",
    "\n",
    "    return np.array([u, v, 0.0])\n"
   ]
  },
  {
   "cell_type": "code",
   "execution_count": 11,
   "id": "22bf87b5",
   "metadata": {},
   "outputs": [
    {
     "data": {
      "text/html": [
       "<pre style=\"white-space:pre;overflow-x:auto;line-height:normal;font-family:Menlo,'DejaVu Sans Mono',consolas,'Courier New',monospace\">Manim Community <span style=\"color: #008000; text-decoration-color: #008000\">v0.19.0</span>\n",
       "\n",
       "</pre>\n"
      ],
      "text/plain": [
       "Manim Community \u001b[32mv0.\u001b[0m\u001b[32m19.0\u001b[0m\n",
       "\n"
      ]
     },
     "metadata": {},
     "output_type": "display_data"
    },
    {
     "name": "stderr",
     "output_type": "stream",
     "text": [
      "                                                                                                                                             \r"
     ]
    },
    {
     "data": {
      "text/html": [
       "<video src=\"media\\jupyter\\Assumptions@2025-04-27@00-09-36.mp4\" controls autoplay loop style=\"max-width: 100%;\"  >\n",
       "      Your browser does not support the <code>video</code> element.\n",
       "    </video>"
      ],
      "text/plain": [
       "<IPython.core.display.Video object>"
      ]
     },
     "metadata": {},
     "output_type": "display_data"
    }
   ],
   "source": [
    "%%manim --disable_caching -v WARNING -qh Assumptions\n",
    "class Assumptions(Scene):\n",
    "    def construct(self):\n",
    "        title = Text(\n",
    "            \"Assumptions for this video\", color=BLUE)\n",
    "        title.scale(1.25)\n",
    "        title.shift(3 * UP)\n",
    "\n",
    "        l = BulletedList(\"Newtonian\", \"Incompressible\",\n",
    "                        'Isothermal', height=3,width=3)\n",
    "        l.scale(1.5)\n",
    "        l.shift(0.25*DOWN)\n",
    "\n",
    "        self.play(FadeIn(title,shift=3*UP))\n",
    "        self.play(Write(l))\n",
    "        self.wait()\n",
    "\n",
    "        self.play(l.animate.fade_all_but(0))\n",
    "        self.wait()\n",
    "\n",
    "        self.play(l.animate.fade_all_but(1))\n",
    "        self.wait()\n",
    "\n",
    "        self.play(l.animate.fade_all_but(2))\n",
    "        self.wait()"
   ]
  },
  {
   "cell_type": "code",
   "execution_count": 12,
   "id": "dbce1a0d",
   "metadata": {},
   "outputs": [
    {
     "data": {
      "text/html": [
       "<pre style=\"white-space:pre;overflow-x:auto;line-height:normal;font-family:Menlo,'DejaVu Sans Mono',consolas,'Courier New',monospace\">Manim Community <span style=\"color: #008000; text-decoration-color: #008000\">v0.19.0</span>\n",
       "\n",
       "</pre>\n"
      ],
      "text/plain": [
       "Manim Community \u001b[32mv0.\u001b[0m\u001b[32m19.0\u001b[0m\n",
       "\n"
      ]
     },
     "metadata": {},
     "output_type": "display_data"
    },
    {
     "name": "stderr",
     "output_type": "stream",
     "text": [
      "                                                                                      \r"
     ]
    },
    {
     "data": {
      "text/html": [
       "<video src=\"media\\jupyter\\fluid@2025-04-27@00-10-03.mp4\" controls autoplay loop style=\"max-width: 100%;\"  >\n",
       "      Your browser does not support the <code>video</code> element.\n",
       "    </video>"
      ],
      "text/plain": [
       "<IPython.core.display.Video object>"
      ]
     },
     "metadata": {},
     "output_type": "display_data"
    }
   ],
   "source": [
    "%%manim --disable_caching -v WARNING -qh fluid\n",
    "class fluid(Scene):\n",
    "    def construct(self):\n",
    "        ax=Axes(x_range=[0,6],y_range=[0,5], axis_config={\n",
    "                \"include_tip\": False}).shift(0.5*UP)\n",
    "        f= lambda x : 3 \n",
    "        xlbl= ax.get_x_axis_label(MathTex(r'\\tau').scale(2),edge=DOWN, direction=DOWN, buff=0.5)\n",
    "        ylbl= ax.get_y_axis_label(MathTex(r'\\mu').scale(2),edge=LEFT, direction=LEFT, buff=1).rotate(PI/2)\n",
    "\n",
    "        graph= ax.plot(f,color=BLUE)\n",
    "\n",
    "    \n",
    "\n",
    "        nw=Text('Newtonian',color=BLUE).next_to(graph,UP)\n",
    "       \n",
    "        vg=VGroup(ax,xlbl,ylbl,graph,nw)\n",
    "        self.play(LaggedStartMap(Write,vg,lag_ratio=0.5),run_time=4,rate_func=smooth)\n",
    "       \n",
    "        self.wait()"
   ]
  },
  {
   "cell_type": "markdown",
   "id": "a1f1495d",
   "metadata": {},
   "source": [
    "the first about mass conservation"
   ]
  },
  {
   "cell_type": "code",
   "execution_count": 13,
   "id": "f1d8cbba",
   "metadata": {},
   "outputs": [
    {
     "data": {
      "text/html": [
       "<pre style=\"white-space:pre;overflow-x:auto;line-height:normal;font-family:Menlo,'DejaVu Sans Mono',consolas,'Courier New',monospace\">Manim Community <span style=\"color: #008000; text-decoration-color: #008000\">v0.19.0</span>\n",
       "\n",
       "</pre>\n"
      ],
      "text/plain": [
       "Manim Community \u001b[32mv0.\u001b[0m\u001b[32m19.0\u001b[0m\n",
       "\n"
      ]
     },
     "metadata": {},
     "output_type": "display_data"
    },
    {
     "name": "stderr",
     "output_type": "stream",
     "text": [
      "                                                                                                              \r"
     ]
    },
    {
     "data": {
      "text/html": [
       "<video src=\"media\\jupyter\\Compressible@2025-04-27@00-11-31.mp4\" controls autoplay loop style=\"max-width: 100%;\"  >\n",
       "      Your browser does not support the <code>video</code> element.\n",
       "    </video>"
      ],
      "text/plain": [
       "<IPython.core.display.Video object>"
      ]
     },
     "metadata": {},
     "output_type": "display_data"
    }
   ],
   "source": [
    "%%manim --disable_caching -v WARNING -ql Compressible\n",
    "class Compressible(Scene):\n",
    "    def construct(self):   \n",
    "        plane=NumberPlane()\n",
    "        divP=MathTex(r'\\nabla \\cdot \\textbf{u} < 0', color=WHITE)\n",
    "        divN=MathTex(r'\\nabla \\cdot \\textbf{u} > 0', color=WHITE)\n",
    "\n",
    "        points= VGroup()\n",
    "        for i in np.arange(-7,7.5,0.5):\n",
    "            for j in np.arange(-4, 4.5,0.5):\n",
    "                point = Dot(plane.c2p(i,j), color=BLUE, radius=0.03)\n",
    "                points.add(point)\n",
    "\n",
    "        points.fade(0.5)\n",
    "        self.play(LaggedStartMap(FadeIn, points, run_time=2, lag_ratio=0.1))\n",
    "        \n",
    "\n",
    "        \n",
    "        st=StreamLines(div_field, stroke_width=2,x_range=[-10, 10, 0.5], y_range=[-6, 6, 0.5])\n",
    "        vf= ArrowVectorField(div_field, x_range=[-10, 10, 0.5], y_range=[-6, 6, 0.5])\n",
    "\n",
    "        self.play(Write(vf, run_time=3,rate_func=smooth))\n",
    "        self.play(FadeOut(points))\n",
    "        \n",
    "\n",
    "\n",
    "        v1= pointers([-2.3,2.2,0], n=10, radius=0.5)\n",
    "        v2= pointers([-2.3,-2.2,0], n=10, radius=0.5, sign=-1)\n",
    "        v3= pointers([2.3,2.2,0], n=10, radius=0.5, sign=-1)\n",
    "        v4= pointers([2.3,-2.2,0], n=10, radius=0.5)\n",
    "        vg=VGroup(v1,v2,v3,v4)\n",
    "\n",
    "        self.add(st)\n",
    "        st.start_animation(warm_up=True, flow_speed=1)\n",
    "        self.wait(5)\n",
    "        self.play(LaggedStartMap(Create, vg, run_time=2, lag_ratio=0.1))\n",
    "        self.wait(2)\n",
    "        divP.next_to(v1, DOWN)\n",
    "        divN.next_to(v2, UP)\n",
    "        self.play(Write(divP), run_time=1)\n",
    "        self.play(Write(divN), run_time=1)\n",
    "        self.wait(2)\n",
    "        self.play(LaggedStartMap(FadeOut, vg, run_time=2, lag_ratio=0.1))"
   ]
  },
  {
   "cell_type": "code",
   "execution_count": 16,
   "id": "f1e3c486",
   "metadata": {},
   "outputs": [
    {
     "data": {
      "text/html": [
       "<pre style=\"white-space:pre;overflow-x:auto;line-height:normal;font-family:Menlo,'DejaVu Sans Mono',consolas,'Courier New',monospace\">Manim Community <span style=\"color: #008000; text-decoration-color: #008000\">v0.19.0</span>\n",
       "\n",
       "</pre>\n"
      ],
      "text/plain": [
       "Manim Community \u001b[32mv0.\u001b[0m\u001b[32m19.0\u001b[0m\n",
       "\n"
      ]
     },
     "metadata": {},
     "output_type": "display_data"
    },
    {
     "name": "stderr",
     "output_type": "stream",
     "text": [
      "                                                            \r"
     ]
    },
    {
     "data": {
      "text/html": [
       "<video src=\"media\\jupyter\\incompressible@2025-04-27@00-15-04.mp4\" controls autoplay loop style=\"max-width: 100%;\"  >\n",
       "      Your browser does not support the <code>video</code> element.\n",
       "    </video>"
      ],
      "text/plain": [
       "<IPython.core.display.Video object>"
      ]
     },
     "metadata": {},
     "output_type": "display_data"
    }
   ],
   "source": [
    "%%manim --disable_caching -v WARNING -qh incompressible\n",
    "class incompressible(Scene):\n",
    "    def construct(self):   \n",
    "        st=StreamLines(stokes_flow, stroke_width=2,x_range=[-10, 10, 0.5], y_range=[-6, 6, 0.5])\n",
    "        vf= ArrowVectorField(stokes_flow, x_range=[-10, 10, 0.5], y_range=[-6, 6, 0.5])\n",
    "        self.add(vf, st)\n",
    "        div=MathTex(r'\\nabla \\cdot \\textbf{u} = 0', color=WHITE).scale(2)\n",
    "        self.add(div)\n",
    "        \n",
    "        st.start_animation(warm_up=False, flow_speed=.75)\n",
    "        self.wait(5)\n",
    "\n"
   ]
  },
  {
   "cell_type": "markdown",
   "id": "5a895ae5",
   "metadata": {},
   "source": [
    "the second about the momentum "
   ]
  },
  {
   "cell_type": "markdown",
   "id": "e8a2d501",
   "metadata": {},
   "source": [
    "Need to write someting about what each means in brief"
   ]
  },
  {
   "cell_type": "code",
   "execution_count": 17,
   "id": "182ce080",
   "metadata": {},
   "outputs": [
    {
     "data": {
      "text/html": [
       "<pre style=\"white-space:pre;overflow-x:auto;line-height:normal;font-family:Menlo,'DejaVu Sans Mono',consolas,'Courier New',monospace\">Manim Community <span style=\"color: #008000; text-decoration-color: #008000\">v0.19.0</span>\n",
       "\n",
       "</pre>\n"
      ],
      "text/plain": [
       "Manim Community \u001b[32mv0.\u001b[0m\u001b[32m19.0\u001b[0m\n",
       "\n"
      ]
     },
     "metadata": {},
     "output_type": "display_data"
    },
    {
     "name": "stderr",
     "output_type": "stream",
     "text": [
      "                                                                                                                                                                                                        \r"
     ]
    },
    {
     "data": {
      "text/html": [
       "<video src=\"media\\jupyter\\momentum@2025-04-27@00-15-49.mp4\" controls autoplay loop style=\"max-width: 100%;\"  >\n",
       "      Your browser does not support the <code>video</code> element.\n",
       "    </video>"
      ],
      "text/plain": [
       "<IPython.core.display.Video object>"
      ]
     },
     "metadata": {},
     "output_type": "display_data"
    }
   ],
   "source": [
    "%%manim --disable_caching -v WARNING -qh momentum\n",
    "\n",
    "class momentum(Scene):\n",
    "    def construct(self):\n",
    "        title=Text('Navier-Stokes Momentum Equation',color=BLUE).to_edge(UP,buff=1)\n",
    "        ns=MathTex(r'\\rho', r'( \\frac{\\partial u}{ \\partial t} + u \\cdot \\nabla u)'\n",
    "        , r'=', r'-\\nabla P', r'+ \\mu \\nabla^2\\textbf{u}', r'+ \\textbf{f}', color=WHITE).scale(1.5)\n",
    "        nw=MathTex( r'm \\textbf{a}',r'=\\Sigma \\textbf{F}',color=WHITE).scale_to_fit_width(ns.width)\n",
    "        nw.fade(0.5)\n",
    "        self.play(Write(title))\n",
    "        self.play(Write(ns))\n",
    "        self.wait()\n",
    "        rec1= SurroundingRectangle(ns[:2])\n",
    "        rec2= SurroundingRectangle(ns[2:])\n",
    "        self.play(Write(rec1),rate_func=there_and_back,run_time=2)\n",
    "        self.play(FadeIn(nw[0]))\n",
    "     \n",
    "        self.play(Write(rec2),rate_func=there_and_back,run_time=2)\n",
    "        self.play(FadeIn(nw[1]))\n",
    "        self.play(LaggedStart(FadeOut(ns),nw.animate.set_opacity(1),lag_ratio=0.3))\n",
    "        self.wait()"
   ]
  },
  {
   "cell_type": "markdown",
   "id": "a91c15c5",
   "metadata": {},
   "source": [
    "## LHS\n",
    "let ‘s break the intuition behind each term\n",
    "First in continuum mechanics we consider density instead of mass \n"
   ]
  },
  {
   "cell_type": "code",
   "execution_count": 18,
   "id": "fe1f6026",
   "metadata": {},
   "outputs": [
    {
     "data": {
      "text/html": [
       "<pre style=\"white-space:pre;overflow-x:auto;line-height:normal;font-family:Menlo,'DejaVu Sans Mono',consolas,'Courier New',monospace\">Manim Community <span style=\"color: #008000; text-decoration-color: #008000\">v0.19.0</span>\n",
       "\n",
       "</pre>\n"
      ],
      "text/plain": [
       "Manim Community \u001b[32mv0.\u001b[0m\u001b[32m19.0\u001b[0m\n",
       "\n"
      ]
     },
     "metadata": {},
     "output_type": "display_data"
    },
    {
     "name": "stderr",
     "output_type": "stream",
     "text": [
      "                                                                                                                     \r"
     ]
    },
    {
     "data": {
      "text/html": [
       "<video src=\"media\\jupyter\\ball@2025-04-27@00-16-18.mp4\" controls autoplay loop style=\"max-width: 100%;\"  >\n",
       "      Your browser does not support the <code>video</code> element.\n",
       "    </video>"
      ],
      "text/plain": [
       "<IPython.core.display.Video object>"
      ]
     },
     "metadata": {},
     "output_type": "display_data"
    }
   ],
   "source": [
    "%%manim --disable_caching -v WARNING -qh ball\n",
    "# newton to navier stokes reasoning\n",
    "class ball(MovingCameraScene):\n",
    "    def construct(self):\n",
    "\n",
    "        #object\n",
    "        obj = Circle(radius=0.3, color=RED,fill_opacity=1).scale(2)\n",
    "        surface = Line(start=2*LEFT + obj.get_bottom(), end=2*RIGHT + obj.get_bottom(), color=BLUE)\n",
    "\n",
    "        #forces\n",
    "        weight = Arrow(start=2*DOWN , end=obj.get_center(), max_tip_length_to_length_ratio=0.2 , buff=0).rotate(PI)\n",
    "        weight.scale(0.8,about_point=weight.get_start())\n",
    "        force = Arrow(start=2*RIGHT , end=obj.get_center(), max_tip_length_to_length_ratio=0.2 , buff=0).rotate(PI)\n",
    "        force.scale(0.8,about_point=force.get_start())\n",
    "        friction= Arrow(start=surface.get_start() -0.8*LEFT, end=obj.get_bottom(), max_tip_length_to_length_ratio=0.2 , buff=0)\n",
    "\n",
    "        #text\n",
    "        sym= MathTex(r'\\textbf{F}',r'W', r'f', color=WHITE)\n",
    "        sym[0].next_to(force, RIGHT)\n",
    "        sym[1].next_to(weight, DOWN)\n",
    "        sym[2].next_to(friction, DOWN)\n",
    "        vg=VGroup(obj, surface, force, weight, friction)\n",
    "        self.play(Create(vg), run_time=2, rate_func=linear)\n",
    "        self.play(Write(sym),run_time=2)\n",
    "\n",
    "        nw=MathTex( r'\\Sigma \\textbf{F}',r' = m \\textbf{a}',color=WHITE).scale(2).to_corner(UL)\n",
    "        self.play(Write(nw))\n",
    "        \n",
    "        self.wait(2)\n"
   ]
  },
  {
   "cell_type": "code",
   "execution_count": 19,
   "id": "2f1ad8cc",
   "metadata": {},
   "outputs": [],
   "source": [
    "class AbstractExample(ZoomedScene):\n",
    "    def __init__(self, **kwargs):\n",
    "        ZoomedScene.__init__(\n",
    "            self,\n",
    "            zoom_factor=0.3, # scale of zoomed_camera camera\n",
    "            zoomed_display_height=2,\n",
    "            zoomed_display_width=3,\n",
    "            zoomed_camera_config={\n",
    "                \"default_frame_stroke_width\": 2, # frame border\n",
    "            },\n",
    "            **kwargs\n",
    "        )\n",
    "\n",
    "    def setup(self):\n",
    "        # Call ZoomedScene.setup(self)\n",
    "        super().setup()\n",
    "        # Define zoom mobs\n",
    "        zoomed_display        = self.zoomed_display\n",
    "        zoomed_display_border = zoomed_display.display_frame\n",
    "        frame                 = self.zoomed_camera.frame\n",
    "        # set zoom mobs props\n",
    "        \n",
    "        self.zoomed_objs = [zoomed_display, zoomed_display_border, frame]"
   ]
  },
  {
   "cell_type": "code",
   "execution_count": 20,
   "id": "0c1abf78",
   "metadata": {},
   "outputs": [
    {
     "data": {
      "text/html": [
       "<pre style=\"white-space:pre;overflow-x:auto;line-height:normal;font-family:Menlo,'DejaVu Sans Mono',consolas,'Courier New',monospace\">Manim Community <span style=\"color: #008000; text-decoration-color: #008000\">v0.19.0</span>\n",
       "\n",
       "</pre>\n"
      ],
      "text/plain": [
       "Manim Community \u001b[32mv0.\u001b[0m\u001b[32m19.0\u001b[0m\n",
       "\n"
      ]
     },
     "metadata": {},
     "output_type": "display_data"
    },
    {
     "name": "stderr",
     "output_type": "stream",
     "text": [
      "                                                                                                         \r"
     ]
    },
    {
     "data": {
      "text/html": [
       "<video src=\"media\\jupyter\\density@2025-04-27@00-19-25.mp4\" controls autoplay loop style=\"max-width: 100%;\"  >\n",
       "      Your browser does not support the <code>video</code> element.\n",
       "    </video>"
      ],
      "text/plain": [
       "<IPython.core.display.Video object>"
      ]
     },
     "metadata": {},
     "output_type": "display_data"
    }
   ],
   "source": [
    "%%manim --disable_caching -v WARNING -qh density\n",
    "# newton to navier stokes reasoning\n",
    "class density(AbstractExample):\n",
    "    def construct(self):\n",
    "\n",
    "        #part of the camera\n",
    "        zoomed_display, zoomed_display_border, frame = self.zoomed_objs\n",
    "        zoomed_display.scale(0.85)\n",
    "\n",
    "\n",
    "        #the water\n",
    "        fluid=VGroup()\n",
    "        \n",
    "        x_min, x_max = -2, 2\n",
    "        y_min, y_max = -2, 1\n",
    "\n",
    "        for j in np.linspace(y_min, y_max, 40):\n",
    "            for i in np.linspace(x_min, x_max, 40):\n",
    "                point = Dot([i, j, 0],radius=0.04, color=BLUE)\n",
    "                fluid.add(point)\n",
    "\n",
    "        bottom_left = [x_min-0.1, y_min-0.1, 0]\n",
    "        bottom_right = [x_max+0.1, y_min-0.1, 0]\n",
    "        top_right = [x_max+0.1, y_max+0.1, 0]\n",
    "        top_left = [x_min-0.1, y_max+0.1, 0]\n",
    "\n",
    "        # Create lines (skip the top line)\n",
    "        left_edge = Line(bottom_left, top_left, color=WHITE)\n",
    "        bottom_edge = Line(bottom_left, bottom_right, color=WHITE)\n",
    "        right_edge = Line(bottom_right, top_right, color=WHITE)\n",
    "        box = VGroup(left_edge, bottom_edge, right_edge)\n",
    "\n",
    "        vg=VGroup(fluid, box).shift(DOWN)\n",
    "        self.add(vg)\n",
    "        vgc=vg.copy().scale(0.5)\n",
    "        \n",
    "        line= Line(start=LEFT, end=RIGHT, color=WHITE).scale(1.2)\n",
    "        line.next_to(zoomed_display.get_bottom(),DOWN)\n",
    "        frame.shift(vg.get_center())\n",
    "        \n",
    "\n",
    "        self.play(Create(frame))\n",
    "        self.activate_zooming()\n",
    "        self.play(self.get_zoomed_display_pop_out_animation())\n",
    "        self.play(Create(line))\n",
    "        self.play(vgc.animate.next_to(line.get_center(),DOWN), run_time=2)\n",
    "\n",
    "        rho= MathTex(r'\\rho =', color=WHITE).scale(2)\n",
    "        rho.next_to(line, LEFT,buff= 1)\n",
    "        self.play(Write(rho))\n",
    "        density= MathTex(r'm',r'V', color=WHITE).scale(2)\n",
    "        density[0].next_to(zoomed_display, UP,buff=0.1)\n",
    "        density[1].move_to(vgc.get_center())\n",
    "        \n",
    "        self.play(LaggedStart(Write(density[0]),Write(density[1]), run_time=2, lag_ratio=0.5))\n",
    "        self.wait(3)\n"
   ]
  },
  {
   "cell_type": "markdown",
   "id": "1e9354e9",
   "metadata": {},
   "source": [
    "Therefore same logic should be applied for velocity\n",
    "So in this case we need to consider the whole continuum as single points with magnitudes and directions \n",
    "> acceleration scene\n"
   ]
  },
  {
   "cell_type": "code",
   "execution_count": 21,
   "id": "1a9c17ea",
   "metadata": {},
   "outputs": [
    {
     "data": {
      "text/html": [
       "<pre style=\"white-space:pre;overflow-x:auto;line-height:normal;font-family:Menlo,'DejaVu Sans Mono',consolas,'Courier New',monospace\">Manim Community <span style=\"color: #008000; text-decoration-color: #008000\">v0.19.0</span>\n",
       "\n",
       "</pre>\n"
      ],
      "text/plain": [
       "Manim Community \u001b[32mv0.\u001b[0m\u001b[32m19.0\u001b[0m\n",
       "\n"
      ]
     },
     "metadata": {},
     "output_type": "display_data"
    },
    {
     "name": "stderr",
     "output_type": "stream",
     "text": [
      "                                                                                                                   \r"
     ]
    },
    {
     "data": {
      "text/html": [
       "<video src=\"media\\jupyter\\velocityfield@2025-04-27@00-21-27.mp4\" controls autoplay loop style=\"max-width: 100%;\"  >\n",
       "      Your browser does not support the <code>video</code> element.\n",
       "    </video>"
      ],
      "text/plain": [
       "<IPython.core.display.Video object>"
      ]
     },
     "metadata": {},
     "output_type": "display_data"
    }
   ],
   "source": [
    "%%manim --disable_caching -v WARNING -ql velocityfield\n",
    "class velocityfield(Scene):\n",
    "    def construct(self):\n",
    "        \n",
    "        plane = NumberPlane().fade(1)\n",
    "        self.add(plane)\n",
    "\n",
    "\n",
    "        points= VGroup()\n",
    "        for i in np.arange(-7,7.5,0.5):\n",
    "            for j in np.arange(-4, 4.5,0.5):\n",
    "                point = Dot(plane.c2p(i,j), color=BLUE, radius=0.05)\n",
    "                points.add(point)\n",
    "\n",
    "        points.fade(0.5)\n",
    "\n",
    "\n",
    "        func = lambda p: np.array([p[1],p[0],0])\n",
    "        gradf= lambda p: np.array([1.,1.,0])\n",
    "\n",
    "        gradient_field = ArrowVectorField(gradf, color=BLUE)\n",
    "        vector_field= ArrowVectorField(func)\n",
    "        gradient_field.fade(1)\n",
    "        vector_field.fade(1)\n",
    "        self.add(gradient_field,vector_field)\n",
    "        \n",
    "\n",
    "        self.play(LaggedStartMap(FadeIn, points, run_time=2, lag_ratio=0.1))\n",
    "        self.play(plane.animate.set_opacity(0.3))\n",
    "        self.play(vector_field.animate.set_opacity(1))\n",
    "\n",
    "        u= MathTex(r'u \\cdot \\nabla u', color=WHITE).scale(2).to_edge(UP)\n",
    "        self.play(Write(u))\n",
    "        self.add_foreground_mobject(u)\n",
    "\n",
    "        self.play(LaggedStart(gradient_field.animate.set_opacity(1),vector_field.animate.fade(0.7), run_time=3, lag_ratio=0))\n",
    "        self.wait(2)\n",
    "        self.play(vector_field.animate.set_opacity(1))\n",
    "        self.wait(2)\n",
    "\n",
    "        vg=VGroup(vector_field, gradient_field)\n",
    "        self.play(vg.animate.set_opacity(0.7))\n",
    "        \n",
    " \n",
    "        # streamlines\n",
    "        stream_lines = StreamLines(func, stroke_width=2).fade(0.3)\n",
    "        self.add(stream_lines)\n",
    "        \n",
    "       \n",
    "        stream_lines.start_animation(warm_up=True, flow_speed=0.75)\n",
    "        t=Variable(0,MathTex('t'), num_decimal_places=1).to_corner(UL)\n",
    "        t.add_background_rectangle(color=BLACK)\n",
    "        self.play(Write(t))\n",
    "        self.play(t.tracker.animate.set_value(10),run_time=10,rate_func=linear)\n",
    "        self.wait(0.5)\n",
    "\n"
   ]
  },
  {
   "cell_type": "markdown",
   "id": "9689e46c",
   "metadata": {},
   "source": [
    "## RHS\n",
    "\n",
    "We so are done from the LHS\n",
    "How about the other side?\n",
    "> chalkboard scene\n",
    ">>The first two terms are the internal forces \n",
    ">> Which are The pressure gradient—we all know how water moves in a tube.\n",
    "\n",
    "\n",
    "It moves from high pressure to low pressure, which is represented mathematically as a derivative.\n"
   ]
  },
  {
   "cell_type": "code",
   "execution_count": 22,
   "id": "79400520",
   "metadata": {},
   "outputs": [
    {
     "data": {
      "text/html": [
       "<pre style=\"white-space:pre;overflow-x:auto;line-height:normal;font-family:Menlo,'DejaVu Sans Mono',consolas,'Courier New',monospace\">Manim Community <span style=\"color: #008000; text-decoration-color: #008000\">v0.19.0</span>\n",
       "\n",
       "</pre>\n"
      ],
      "text/plain": [
       "Manim Community \u001b[32mv0.\u001b[0m\u001b[32m19.0\u001b[0m\n",
       "\n"
      ]
     },
     "metadata": {},
     "output_type": "display_data"
    },
    {
     "name": "stderr",
     "output_type": "stream",
     "text": [
      "                                                                                  \r"
     ]
    },
    {
     "data": {
      "text/html": [
       "<video src=\"media\\jupyter\\pressure@2025-04-27@00-22-11.mp4\" controls autoplay loop style=\"max-width: 100%;\"  >\n",
       "      Your browser does not support the <code>video</code> element.\n",
       "    </video>"
      ],
      "text/plain": [
       "<IPython.core.display.Video object>"
      ]
     },
     "metadata": {},
     "output_type": "display_data"
    }
   ],
   "source": [
    "%%manim --disable_caching -v WARNING -ql pressure\n",
    "\n",
    "class pressure(Scene):\n",
    "    def construct(self):\n",
    "        points= VGroup()\n",
    "        x_min, x_max = -5, 5.5\n",
    "        y_min, y_max = -2, 2.5\n",
    "\n",
    "\n",
    "        for i in np.arange(x_min,x_max,0.5):\n",
    "            for j in np.arange(y_min, y_max,0.5):\n",
    "\n",
    "                alpha =(i - x_min) / (x_max - x_min)\n",
    "                color = interpolate_color(BLUE, RED, alpha)\n",
    "                point = Dot([i,j,0], color=color, radius=0.1)\n",
    "                points.add(point)\n",
    "\n",
    "        self.add(points)\n",
    "        pressure= MathTex(r'P', color=WHITE).scale(2)\n",
    "        pressure.to_edge(UP)\n",
    "        self.add(pressure)\n",
    "\n",
    "        arrow= Arrow(start=2*RIGHT, end=2*LEFT, color=WHITE).scale(1.2)\n",
    "        self.play(GrowFromEdge(arrow, RIGHT),rate_func= linear, run_time=5)\n",
    "        self.wait()"
   ]
  },
  {
   "cell_type": "code",
   "execution_count": 23,
   "id": "e9ba79c7",
   "metadata": {},
   "outputs": [
    {
     "data": {
      "text/html": [
       "<pre style=\"white-space:pre;overflow-x:auto;line-height:normal;font-family:Menlo,'DejaVu Sans Mono',consolas,'Courier New',monospace\">Manim Community <span style=\"color: #008000; text-decoration-color: #008000\">v0.19.0</span>\n",
       "\n",
       "</pre>\n"
      ],
      "text/plain": [
       "Manim Community \u001b[32mv0.\u001b[0m\u001b[32m19.0\u001b[0m\n",
       "\n"
      ]
     },
     "metadata": {},
     "output_type": "display_data"
    },
    {
     "name": "stderr",
     "output_type": "stream",
     "text": [
      "                                                            \r"
     ]
    },
    {
     "data": {
      "text/html": [
       "<video src=\"media\\jupyter\\gradient@2025-04-27@00-22-30.mp4\" controls autoplay loop style=\"max-width: 100%;\"  >\n",
       "      Your browser does not support the <code>video</code> element.\n",
       "    </video>"
      ],
      "text/plain": [
       "<IPython.core.display.Video object>"
      ]
     },
     "metadata": {},
     "output_type": "display_data"
    }
   ],
   "source": [
    "%%manim --disable_caching -v WARNING -ql gradient\n",
    "# Gradient vector field\n",
    "\n",
    "class gradient(ThreeDScene):\n",
    "    def construct(self):\n",
    "        self.set_camera_orientation(phi=70*DEGREES, theta=-120*DEGREES)\n",
    "\n",
    "        # Axes\n",
    "        axes = ThreeDAxes(x_range=(-2, 2, 1), y_range=(-2, 2, 1), z_range=(-2, 2, 1))\n",
    "\n",
    "        # Surface function\n",
    "        func = lambda u, v: axes.c2p(u, v, 2 * np.sin(u) * np.cos(v))\n",
    "\n",
    "        surface = Surface(\n",
    "            func,\n",
    "            resolution=30,\n",
    "            v_range=[-1.5, 1.5],\n",
    "            u_range=[-1.5, 1.5],\n",
    "        ).fade(0.5)\n",
    "\n",
    "        # Gradient in (u, v) space\n",
    "        def gradient(u, v):\n",
    "            dx = 2 * np.cos(u) * np.cos(v)\n",
    "            dy = -2 * np.sin(u) * np.sin(v)\n",
    "            return np.array([dx, dy])\n",
    "\n",
    "        # Initial position in (u, v)\n",
    "        u_val = ValueTracker(0.5)\n",
    "        v_val = ValueTracker(0)\n",
    "        \n",
    "        pressure = MathTex(r' - \\nabla P ')\n",
    "        pressure.scale(2).to_corner(UL)\n",
    "        self.add_fixed_in_frame_mobjects(pressure)\n",
    "        # Dot on the surface\n",
    "        dot = always_redraw(lambda: Dot3D(func(u_val.get_value(), v_val.get_value()), color=RED))\n",
    "\n",
    "        \n",
    "        arrow= always_redraw( lambda: Arrow(start=dot.get_center(), end=dot.get_center()-[1,1,0], color=RED))\n",
    "\n",
    "        # Update function to simulate gradient descent in (u, v) space\n",
    "        def update_uv(mob, dt):\n",
    "            u = u_val.get_value()\n",
    "            v = v_val.get_value()\n",
    "            grad = gradient(u, v)\n",
    "            step_size = 0.1 * dt  # adjust for smoothness\n",
    "            u_val.set_value(u - step_size * grad[0])\n",
    "            v_val.set_value(v - step_size * grad[1])\n",
    "\n",
    "\n",
    "        dot.add_updater(update_uv)\n",
    "\n",
    "        surface.set_fill_by_value(axes, colorscale= [(BLUE,0), (RED,0)],axis=2)\n",
    "\n",
    "\n",
    "        self.add(axes, surface, dot, arrow)\n",
    "\n",
    "        self.wait(10)\n",
    "        dot.clear_updaters()\n",
    "\n",
    "        self.wait()"
   ]
  },
  {
   "cell_type": "markdown",
   "id": "eea78715",
   "metadata": {},
   "source": [
    "As for the other term \n",
    "Which is the diffusion term\n",
    "There is always a friction, which is represented as viscosity in fluid\n",
    "> honey scene and water pouring\n",
    "\n",
    "The tendency of water to move along it layers\n",
    "\n",
    "> viscosity\n"
   ]
  },
  {
   "cell_type": "code",
   "execution_count": 24,
   "id": "05df1506",
   "metadata": {},
   "outputs": [
    {
     "data": {
      "text/html": [
       "<pre style=\"white-space:pre;overflow-x:auto;line-height:normal;font-family:Menlo,'DejaVu Sans Mono',consolas,'Courier New',monospace\">Manim Community <span style=\"color: #008000; text-decoration-color: #008000\">v0.19.0</span>\n",
       "\n",
       "</pre>\n"
      ],
      "text/plain": [
       "Manim Community \u001b[32mv0.\u001b[0m\u001b[32m19.0\u001b[0m\n",
       "\n"
      ]
     },
     "metadata": {},
     "output_type": "display_data"
    },
    {
     "name": "stderr",
     "output_type": "stream",
     "text": [
      "                                                                                  \r"
     ]
    },
    {
     "data": {
      "text/html": [
       "<video src=\"media\\jupyter\\viscosity@2025-04-27@00-22-44.mp4\" controls autoplay loop style=\"max-width: 100%;\"  >\n",
       "      Your browser does not support the <code>video</code> element.\n",
       "    </video>"
      ],
      "text/plain": [
       "<IPython.core.display.Video object>"
      ]
     },
     "metadata": {},
     "output_type": "display_data"
    }
   ],
   "source": [
    "%%manim --disable_caching -v WARNING -ql viscosity\n",
    "\n",
    "class viscosity(Scene):\n",
    "    def construct(self):\n",
    "        #sign object\n",
    "        fluid=VGroup()\n",
    "        \n",
    "        x_min, x_max = -6*4, 6*4\n",
    "        y_min, y_max = -3, 3\n",
    "\n",
    "        for j in range(y_min, y_max, 1):\n",
    "            for i in range(x_min, x_max, 1):\n",
    "                point = Dot([i, j, 0],radius=0.5, color=BLUE)\n",
    "                fluid.add(point)\n",
    "\n",
    "        fluid.shift(LEFT*4)\n",
    "        fluid.fade(0.5)\n",
    "        \n",
    "\n",
    "        gs=VGroup(*[ fluid[i:i+12*4] for i in range(0, len(fluid), 12*4)])\n",
    "        \n",
    "\n",
    "\n",
    "    \n",
    "        # self.add(fluid)\n",
    "        self.add(gs)\n",
    "        \n",
    "        rec= SurroundingRectangle(fluid, color=WHITE, buff=0.1)\n",
    "     \n",
    "        \n",
    "        self.add(rec)\n",
    "        \n",
    "        def shift(mob, alpha):\n",
    "            mob.shift(RIGHT*alpha/10)\n",
    "\n",
    "        anim=[]\n",
    "        for i in range(0, len(gs)):\n",
    "            animation= UpdateFromAlphaFunc(gs[i], shift, run_time=10, rate_func=linear)\n",
    "            anim.append(animation)\n",
    "\n",
    "        anim.reverse()\n",
    "        viscosity= MathTex(r'\\tau = \\mu \\frac{du}{dy}', color=WHITE).scale(4)\n",
    "        self.add_foreground_mobject(viscosity)\n",
    "\n",
    "        self.play(LaggedStart(*anim, lag_ratio=0.05))\n",
    "        self.wait(2)\n",
    "    \n",
    "    "
   ]
  },
  {
   "cell_type": "markdown",
   "id": "8de10533",
   "metadata": {},
   "source": [
    "I love this term because it perfectly match its meaning\n",
    "\n",
    "‘’The rate on how water diffuse relative to its layers’’\n",
    "\n",
    "It describes how velocity spreads out between neighboring layers, capturing internal friction. How Laplacian represents diffusion \n",
    "> show a 3d animation of a function that being stretch\n",
    "\n",
    "Because you know what is 1st derivative in 2D, so you can understand 2nd (which measures the convavity) as the average rate of change between two neighboring points.\n"
   ]
  },
  {
   "cell_type": "code",
   "execution_count": 25,
   "id": "5447b238",
   "metadata": {},
   "outputs": [
    {
     "data": {
      "text/html": [
       "<pre style=\"white-space:pre;overflow-x:auto;line-height:normal;font-family:Menlo,'DejaVu Sans Mono',consolas,'Courier New',monospace\">Manim Community <span style=\"color: #008000; text-decoration-color: #008000\">v0.19.0</span>\n",
       "\n",
       "</pre>\n"
      ],
      "text/plain": [
       "Manim Community \u001b[32mv0.\u001b[0m\u001b[32m19.0\u001b[0m\n",
       "\n"
      ]
     },
     "metadata": {},
     "output_type": "display_data"
    },
    {
     "name": "stderr",
     "output_type": "stream",
     "text": [
      "                                                                                             \r"
     ]
    },
    {
     "data": {
      "text/html": [
       "<video src=\"media\\jupyter\\diffusion@2025-04-27@00-22-51.mp4\" controls autoplay loop style=\"max-width: 100%;\"  >\n",
       "      Your browser does not support the <code>video</code> element.\n",
       "    </video>"
      ],
      "text/plain": [
       "<IPython.core.display.Video object>"
      ]
     },
     "metadata": {},
     "output_type": "display_data"
    }
   ],
   "source": [
    "%%manim --disable_caching -v WARNING -ql diffusion\n",
    "\n",
    "class diffusion(Scene):\n",
    "    def construct(self):\n",
    "        ax=Axes(x_range=[0,2*PI],y_range=[-1,4])\n",
    "        t=ValueTracker(1)\n",
    "        f= lambda x :  t.get_value()* (-1.9*np.sin(x-1) -0.8*np.sin(3.1*x)-1*np.sin(-0.8*x))+1\n",
    "        f_f= lambda x : 1\n",
    "        final=ax.plot(f_f)\n",
    "      \n",
    "        \n",
    "        graph= always_redraw(lambda : ax.plot(f,color=BLUE))\n",
    "        val= [0.65,1.35,2.59,3.68,4.44,5.6]\n",
    "        points=always_redraw( lambda : VGroup(*[Dot(ax.c2p(x,f(x))) for x in val]))\n",
    "        p_f=VGroup(*[Dot(ax.c2p(x,f_f(x))) for x in val])\n",
    "\n",
    "        arrows=always_redraw( lambda : VGroup(*[Arrow(points[i].get_bottom(),p_f[i],color=YELLOW) for i in range(0,len(points))]))\n",
    "        \n",
    "            \n",
    "          \n",
    "        vg=VGroup(ax,graph)\n",
    "        self.play(LaggedStartMap(Create,vg))\n",
    "        self.play(FadeIn(points,lag_ratio=1))\n",
    "        self.play(FadeIn(arrows))\n",
    "       \n",
    "       \n",
    "\n",
    "        self.play(t.animate.set_value(0),run_time=5,rate_func=linear)\n",
    "        self.wait()      \n"
   ]
  },
  {
   "cell_type": "code",
   "execution_count": 26,
   "id": "dc4327a8",
   "metadata": {},
   "outputs": [
    {
     "data": {
      "text/html": [
       "<pre style=\"white-space:pre;overflow-x:auto;line-height:normal;font-family:Menlo,'DejaVu Sans Mono',consolas,'Courier New',monospace\">Manim Community <span style=\"color: #008000; text-decoration-color: #008000\">v0.19.0</span>\n",
       "\n",
       "</pre>\n"
      ],
      "text/plain": [
       "Manim Community \u001b[32mv0.\u001b[0m\u001b[32m19.0\u001b[0m\n",
       "\n"
      ]
     },
     "metadata": {},
     "output_type": "display_data"
    },
    {
     "name": "stderr",
     "output_type": "stream",
     "text": [
      "                                                                                                               \r"
     ]
    },
    {
     "data": {
      "text/html": [
       "<video src=\"media\\jupyter\\laplacian@2025-04-27@00-25-17.mp4\" controls autoplay loop style=\"max-width: 100%;\"  >\n",
       "      Your browser does not support the <code>video</code> element.\n",
       "    </video>"
      ],
      "text/plain": [
       "<IPython.core.display.Video object>"
      ]
     },
     "metadata": {},
     "output_type": "display_data"
    }
   ],
   "source": [
    "%%manim --disable_caching -v WARNING -ql laplacian\n",
    "\n",
    "class laplacian(ThreeDScene):\n",
    "    def construct(self):\n",
    "       \n",
    "        D3=ThreeDAxes()\n",
    "        self.set_camera_orientation(phi=45*DEGREES, theta=45*DEGREES)\n",
    "        surface=Surface(lambda u,v: np.array([u,v,np.sin(u)+np.cos(v)]),u_range=[-3*PI,3*PI],v_range=[-3*PI,3*PI],resolution=30).fade(0.5)\n",
    "        def get_surface(mob,alpha):\n",
    "            t=1-alpha\n",
    "            sin=Surface(lambda u,v: np.array([u,v,t*np.sin(u)+t*np.cos(v)]),u_range=[-3*PI,3*PI],v_range=[-3*PI,3*PI],resolution=30).fade(0.5)\n",
    "            mob.become(sin)\n",
    "\n",
    "        \n",
    "        self.play(Create(surface))\n",
    "        \n",
    "        self.play(UpdateFromAlphaFunc(surface,get_surface,run_time=10,rate_func=linear))\n",
    "        self.wait()\n",
    "        \n",
    "      "
   ]
  },
  {
   "cell_type": "markdown",
   "id": "cef91ec5",
   "metadata": {},
   "source": [
    "* And finally external forces, which could be anything, really\n",
    "\n",
    "> $ f = \\rho g$\n",
    "or maxwell equations\n",
    "\n",
    "\n",
    "![maxell](images.png)\n",
    "\n",
    ">which will yield electromagnetohydrodynamics which helped us in predicting stars \n",
    "\n",
    "Despite the horrifying math terms, all the equation is saying for the first one is the mass is conserved and the second is mass X acceleration is equal to the internal forces on the fluid and external forces which is really just newton's second law but for fluid \n",
    "\n"
   ]
  },
  {
   "cell_type": "markdown",
   "id": "53bdcd10",
   "metadata": {},
   "source": [
    "# Scene 3\n",
    "Ok, then, if it is all fundamental laws of physics, why does it have a $1,000.00 prize?\n",
    "The problem with this equation is this bastard (convective term).\n",
    "This term makes the equation very sensitive because it encapsulates nonlinearity.\n",
    "Nonlinearity tells us a lot about the turbulent nature of fluid, which we can't predict due to the chaotic behavior of the fluid. \n",
    "\n",
    "> Scene about the cigarette smoking.\n",
    "\n",
    "\n",
    "Therefore we can tell if the fluid will behave nicely in the long-term or will give us smooth solution with any slight change in initial conditions\n",
    "It makes the equation so sensitive to change (similar to the factorial function).\n",
    "> show a scene when you drink coffee and swirl the cream.\n",
    "\n",
    "> [Apply smooth stirring to coffee.]\n",
    "If you consider the motion of coffee in this cup with slow stirring,\n",
    "It is predictably non-turbulent; it moves smoothly, maintaining structure.\n",
    "However, if we change the condition so slightly, will the math hold?\n",
    "\n",
    "> [Apply fast stirring]\n",
    "The cream begins to stretch, fold, and twist unpredictably. It is becoming turbulent.\n",
    "Eventually they form a tangled mess of swirls.\n",
    "\n",
    "These equations work beautifully in calm water or with slow velocities, but not for others\n",
    "> (throw ink in water)\n",
    "\n",
    "ink in water dispersing smoothly… then suddenly breaking up into chaotic swirls\n",
    "\n",
    "Plus, these nonlinear PDE is insanely hard to solve.\n"
   ]
  },
  {
   "cell_type": "markdown",
   "id": "310f6b89",
   "metadata": {},
   "source": [
    "# Ending\n",
    "Therefore the problem state is “a proof of the existence of a smooth solution and uniqueness.”\n",
    "\n",
    "Any advancement in understanding the N-S equation will yield you a fortune.\n",
    "\n",
    "Because Navier-stokes will help us unveil what is mean by turbulence, it is not just a physics problem, but rather a math one\n",
    "\"Maybe the answer lies in a simple idea no one has seen yet.\n",
    "\n",
    "\"One equation. One solution. One million dollars.\"\n",
    "\n"
   ]
  },
  {
   "cell_type": "code",
   "execution_count": 27,
   "id": "515aecd6",
   "metadata": {},
   "outputs": [
    {
     "data": {
      "text/html": [
       "<pre style=\"white-space:pre;overflow-x:auto;line-height:normal;font-family:Menlo,'DejaVu Sans Mono',consolas,'Courier New',monospace\">Manim Community <span style=\"color: #008000; text-decoration-color: #008000\">v0.19.0</span>\n",
       "\n",
       "</pre>\n"
      ],
      "text/plain": [
       "Manim Community \u001b[32mv0.\u001b[0m\u001b[32m19.0\u001b[0m\n",
       "\n"
      ]
     },
     "metadata": {},
     "output_type": "display_data"
    },
    {
     "name": "stderr",
     "output_type": "stream",
     "text": [
      "                                                                                                       \r"
     ]
    },
    {
     "data": {
      "text/html": [
       "<video src=\"media\\jupyter\\closeup@2025-04-27@00-25-33.mp4\" controls autoplay loop style=\"max-width: 100%;\"  >\n",
       "      Your browser does not support the <code>video</code> element.\n",
       "    </video>"
      ],
      "text/plain": [
       "<IPython.core.display.Video object>"
      ]
     },
     "metadata": {},
     "output_type": "display_data"
    }
   ],
   "source": [
    "%%manim --disable_caching -v WARNING -ql closeup\n",
    "class closeup(Scene):\n",
    "    def construct(self):\n",
    "        title = Text('Millennium Prize Problems').to_edge(UP)\n",
    "        conditions=BulletedList(r'Existence of a vector velocity field\\\\and a scalar pressure field',\n",
    "         r'Both fields are smooth\\\\and globally defined', \n",
    "         'Uniqueness of the solutions'\n",
    "         ,height=5,width=7\n",
    "         )\n",
    "        conditions.to_edge(LEFT,buff=2).shift(DOWN*0.5)\n",
    "      \n",
    "    \n",
    "        img=ImageMobject('millenium problem.png').shift(LEFT+ 0.5 * DOWN)\n",
    "        img.move_to(conditions.get_center())\n",
    "        self.add(img)\n",
    "        self.play(Write(title),run_time=2)\n",
    "        self.play(LaggedStart(img.animate.to_edge(RIGHT),Write(conditions), lag_ratio=0.2, run_time= 5 , rate_func=smooth ))\n",
    "        self.wait()"
   ]
  },
  {
   "cell_type": "markdown",
   "id": "dd3e0ad2",
   "metadata": {},
   "source": [
    "Finally despite our lack of understanding of N-S equations it still one of the breakthroughs for humankind that depict almost everything from air flows to liquid flows\n",
    "\n",
    "And has vast amount of practical applications in real world, even though it is just approximations\n",
    "\n",
    "We can be more greedy.\n",
    "\n",
    "Since it described the motion of every fluid in the universe \n",
    "You can have one universal equation that can predict the behavior of everything consistently\n",
    "\n",
    "A nice way to put it is, “Solving Navier-Stokes equations is like solving a personality.”\n",
    "> sitting with Dilnaz discussing about things [ the idea is you cant predict what people will say]\n"
   ]
  }
 ],
 "metadata": {
  "kernelspec": {
   "display_name": "Python 3",
   "language": "python",
   "name": "python3"
  },
  "language_info": {
   "codemirror_mode": {
    "name": "ipython",
    "version": 3
   },
   "file_extension": ".py",
   "mimetype": "text/x-python",
   "name": "python",
   "nbconvert_exporter": "python",
   "pygments_lexer": "ipython3",
   "version": "3.11.8"
  }
 },
 "nbformat": 4,
 "nbformat_minor": 5
}
